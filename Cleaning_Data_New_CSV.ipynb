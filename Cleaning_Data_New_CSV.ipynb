{
  "nbformat": 4,
  "nbformat_minor": 0,
  "metadata": {
    "colab": {
      "name": "Cleaning_Data/New_CSV.ipynb",
      "provenance": [],
      "collapsed_sections": []
    },
    "kernelspec": {
      "name": "python3",
      "display_name": "Python 3"
    }
  },
  "cells": [
    {
      "cell_type": "code",
      "metadata": {
        "id": "F-6gFB1CFH0K",
        "colab_type": "code",
        "colab": {}
      },
      "source": [
        "import numpy as np \n",
        "import pandas as pd"
      ],
      "execution_count": 0,
      "outputs": []
    },
    {
      "cell_type": "code",
      "metadata": {
        "id": "zT7ctO_XxCxJ",
        "colab_type": "code",
        "colab": {
          "base_uri": "https://localhost:8080/",
          "height": 85
        },
        "outputId": "446036c4-76c7-4682-ef52-b28053b00f20"
      },
      "source": [
        "!unzip properties_2016.csv.zip"
      ],
      "execution_count": 6,
      "outputs": [
        {
          "output_type": "stream",
          "text": [
            "Archive:  properties_2016.csv.zip\n",
            "  inflating: properties_2016.csv     \n",
            "   creating: __MACOSX/\n",
            "  inflating: __MACOSX/._properties_2016.csv  \n"
          ],
          "name": "stdout"
        }
      ]
    },
    {
      "cell_type": "code",
      "metadata": {
        "id": "FERzQPncFpUC",
        "colab_type": "code",
        "colab": {
          "base_uri": "https://localhost:8080/",
          "height": 71
        },
        "outputId": "fa8a429e-1007-4a3f-a4a6-47144c03da86"
      },
      "source": [
        "df = pd.read_csv(\"properties_2016.csv\")"
      ],
      "execution_count": 7,
      "outputs": [
        {
          "output_type": "stream",
          "text": [
            "/usr/local/lib/python3.6/dist-packages/IPython/core/interactiveshell.py:2718: DtypeWarning: Columns (22,32,34,49,55) have mixed types. Specify dtype option on import or set low_memory=False.\n",
            "  interactivity=interactivity, compiler=compiler, result=result)\n"
          ],
          "name": "stderr"
        }
      ]
    },
    {
      "cell_type": "code",
      "metadata": {
        "id": "QOV_gWJxFyhG",
        "colab_type": "code",
        "colab": {
          "base_uri": "https://localhost:8080/",
          "height": 241
        },
        "outputId": "4d90c630-5086-47e9-e5f9-dc0813ca2f8e"
      },
      "source": [
        "print(df.shape)\n",
        "df.head()"
      ],
      "execution_count": 9,
      "outputs": [
        {
          "output_type": "stream",
          "text": [
            "(2985217, 58)\n"
          ],
          "name": "stdout"
        },
        {
          "output_type": "execute_result",
          "data": {
            "text/html": [
              "<div>\n",
              "<style scoped>\n",
              "    .dataframe tbody tr th:only-of-type {\n",
              "        vertical-align: middle;\n",
              "    }\n",
              "\n",
              "    .dataframe tbody tr th {\n",
              "        vertical-align: top;\n",
              "    }\n",
              "\n",
              "    .dataframe thead th {\n",
              "        text-align: right;\n",
              "    }\n",
              "</style>\n",
              "<table border=\"1\" class=\"dataframe\">\n",
              "  <thead>\n",
              "    <tr style=\"text-align: right;\">\n",
              "      <th></th>\n",
              "      <th>parcelid</th>\n",
              "      <th>airconditioningtypeid</th>\n",
              "      <th>architecturalstyletypeid</th>\n",
              "      <th>basementsqft</th>\n",
              "      <th>bathroomcnt</th>\n",
              "      <th>bedroomcnt</th>\n",
              "      <th>buildingclasstypeid</th>\n",
              "      <th>buildingqualitytypeid</th>\n",
              "      <th>calculatedbathnbr</th>\n",
              "      <th>decktypeid</th>\n",
              "      <th>finishedfloor1squarefeet</th>\n",
              "      <th>calculatedfinishedsquarefeet</th>\n",
              "      <th>finishedsquarefeet12</th>\n",
              "      <th>finishedsquarefeet13</th>\n",
              "      <th>finishedsquarefeet15</th>\n",
              "      <th>finishedsquarefeet50</th>\n",
              "      <th>finishedsquarefeet6</th>\n",
              "      <th>fips</th>\n",
              "      <th>fireplacecnt</th>\n",
              "      <th>fullbathcnt</th>\n",
              "      <th>garagecarcnt</th>\n",
              "      <th>garagetotalsqft</th>\n",
              "      <th>hashottuborspa</th>\n",
              "      <th>heatingorsystemtypeid</th>\n",
              "      <th>latitude</th>\n",
              "      <th>longitude</th>\n",
              "      <th>lotsizesquarefeet</th>\n",
              "      <th>poolcnt</th>\n",
              "      <th>poolsizesum</th>\n",
              "      <th>pooltypeid10</th>\n",
              "      <th>pooltypeid2</th>\n",
              "      <th>pooltypeid7</th>\n",
              "      <th>propertycountylandusecode</th>\n",
              "      <th>propertylandusetypeid</th>\n",
              "      <th>propertyzoningdesc</th>\n",
              "      <th>rawcensustractandblock</th>\n",
              "      <th>regionidcity</th>\n",
              "      <th>regionidcounty</th>\n",
              "      <th>regionidneighborhood</th>\n",
              "      <th>regionidzip</th>\n",
              "      <th>roomcnt</th>\n",
              "      <th>storytypeid</th>\n",
              "      <th>threequarterbathnbr</th>\n",
              "      <th>typeconstructiontypeid</th>\n",
              "      <th>unitcnt</th>\n",
              "      <th>yardbuildingsqft17</th>\n",
              "      <th>yardbuildingsqft26</th>\n",
              "      <th>yearbuilt</th>\n",
              "      <th>numberofstories</th>\n",
              "      <th>fireplaceflag</th>\n",
              "      <th>structuretaxvaluedollarcnt</th>\n",
              "      <th>taxvaluedollarcnt</th>\n",
              "      <th>assessmentyear</th>\n",
              "      <th>landtaxvaluedollarcnt</th>\n",
              "      <th>taxamount</th>\n",
              "      <th>taxdelinquencyflag</th>\n",
              "      <th>taxdelinquencyyear</th>\n",
              "      <th>censustractandblock</th>\n",
              "    </tr>\n",
              "  </thead>\n",
              "  <tbody>\n",
              "    <tr>\n",
              "      <th>0</th>\n",
              "      <td>10754147</td>\n",
              "      <td>NaN</td>\n",
              "      <td>NaN</td>\n",
              "      <td>NaN</td>\n",
              "      <td>0.0</td>\n",
              "      <td>0.0</td>\n",
              "      <td>NaN</td>\n",
              "      <td>NaN</td>\n",
              "      <td>NaN</td>\n",
              "      <td>NaN</td>\n",
              "      <td>NaN</td>\n",
              "      <td>NaN</td>\n",
              "      <td>NaN</td>\n",
              "      <td>NaN</td>\n",
              "      <td>NaN</td>\n",
              "      <td>NaN</td>\n",
              "      <td>NaN</td>\n",
              "      <td>6037.0</td>\n",
              "      <td>NaN</td>\n",
              "      <td>NaN</td>\n",
              "      <td>NaN</td>\n",
              "      <td>NaN</td>\n",
              "      <td>NaN</td>\n",
              "      <td>NaN</td>\n",
              "      <td>34144442.0</td>\n",
              "      <td>-118654084.0</td>\n",
              "      <td>85768.0</td>\n",
              "      <td>NaN</td>\n",
              "      <td>NaN</td>\n",
              "      <td>NaN</td>\n",
              "      <td>NaN</td>\n",
              "      <td>NaN</td>\n",
              "      <td>010D</td>\n",
              "      <td>269.0</td>\n",
              "      <td>NaN</td>\n",
              "      <td>6.037800e+07</td>\n",
              "      <td>37688.0</td>\n",
              "      <td>3101.0</td>\n",
              "      <td>NaN</td>\n",
              "      <td>96337.0</td>\n",
              "      <td>0.0</td>\n",
              "      <td>NaN</td>\n",
              "      <td>NaN</td>\n",
              "      <td>NaN</td>\n",
              "      <td>NaN</td>\n",
              "      <td>NaN</td>\n",
              "      <td>NaN</td>\n",
              "      <td>NaN</td>\n",
              "      <td>NaN</td>\n",
              "      <td>NaN</td>\n",
              "      <td>NaN</td>\n",
              "      <td>9.0</td>\n",
              "      <td>2015.0</td>\n",
              "      <td>9.0</td>\n",
              "      <td>NaN</td>\n",
              "      <td>NaN</td>\n",
              "      <td>NaN</td>\n",
              "      <td>NaN</td>\n",
              "    </tr>\n",
              "    <tr>\n",
              "      <th>1</th>\n",
              "      <td>10759547</td>\n",
              "      <td>NaN</td>\n",
              "      <td>NaN</td>\n",
              "      <td>NaN</td>\n",
              "      <td>0.0</td>\n",
              "      <td>0.0</td>\n",
              "      <td>NaN</td>\n",
              "      <td>NaN</td>\n",
              "      <td>NaN</td>\n",
              "      <td>NaN</td>\n",
              "      <td>NaN</td>\n",
              "      <td>NaN</td>\n",
              "      <td>NaN</td>\n",
              "      <td>NaN</td>\n",
              "      <td>NaN</td>\n",
              "      <td>NaN</td>\n",
              "      <td>NaN</td>\n",
              "      <td>6037.0</td>\n",
              "      <td>NaN</td>\n",
              "      <td>NaN</td>\n",
              "      <td>NaN</td>\n",
              "      <td>NaN</td>\n",
              "      <td>NaN</td>\n",
              "      <td>NaN</td>\n",
              "      <td>34140430.0</td>\n",
              "      <td>-118625364.0</td>\n",
              "      <td>4083.0</td>\n",
              "      <td>NaN</td>\n",
              "      <td>NaN</td>\n",
              "      <td>NaN</td>\n",
              "      <td>NaN</td>\n",
              "      <td>NaN</td>\n",
              "      <td>0109</td>\n",
              "      <td>261.0</td>\n",
              "      <td>LCA11*</td>\n",
              "      <td>6.037800e+07</td>\n",
              "      <td>37688.0</td>\n",
              "      <td>3101.0</td>\n",
              "      <td>NaN</td>\n",
              "      <td>96337.0</td>\n",
              "      <td>0.0</td>\n",
              "      <td>NaN</td>\n",
              "      <td>NaN</td>\n",
              "      <td>NaN</td>\n",
              "      <td>NaN</td>\n",
              "      <td>NaN</td>\n",
              "      <td>NaN</td>\n",
              "      <td>NaN</td>\n",
              "      <td>NaN</td>\n",
              "      <td>NaN</td>\n",
              "      <td>NaN</td>\n",
              "      <td>27516.0</td>\n",
              "      <td>2015.0</td>\n",
              "      <td>27516.0</td>\n",
              "      <td>NaN</td>\n",
              "      <td>NaN</td>\n",
              "      <td>NaN</td>\n",
              "      <td>NaN</td>\n",
              "    </tr>\n",
              "    <tr>\n",
              "      <th>2</th>\n",
              "      <td>10843547</td>\n",
              "      <td>NaN</td>\n",
              "      <td>NaN</td>\n",
              "      <td>NaN</td>\n",
              "      <td>0.0</td>\n",
              "      <td>0.0</td>\n",
              "      <td>NaN</td>\n",
              "      <td>NaN</td>\n",
              "      <td>NaN</td>\n",
              "      <td>NaN</td>\n",
              "      <td>NaN</td>\n",
              "      <td>73026.0</td>\n",
              "      <td>NaN</td>\n",
              "      <td>NaN</td>\n",
              "      <td>73026.0</td>\n",
              "      <td>NaN</td>\n",
              "      <td>NaN</td>\n",
              "      <td>6037.0</td>\n",
              "      <td>NaN</td>\n",
              "      <td>NaN</td>\n",
              "      <td>NaN</td>\n",
              "      <td>NaN</td>\n",
              "      <td>NaN</td>\n",
              "      <td>NaN</td>\n",
              "      <td>33989359.0</td>\n",
              "      <td>-118394633.0</td>\n",
              "      <td>63085.0</td>\n",
              "      <td>NaN</td>\n",
              "      <td>NaN</td>\n",
              "      <td>NaN</td>\n",
              "      <td>NaN</td>\n",
              "      <td>NaN</td>\n",
              "      <td>1200</td>\n",
              "      <td>47.0</td>\n",
              "      <td>LAC2</td>\n",
              "      <td>6.037703e+07</td>\n",
              "      <td>51617.0</td>\n",
              "      <td>3101.0</td>\n",
              "      <td>NaN</td>\n",
              "      <td>96095.0</td>\n",
              "      <td>0.0</td>\n",
              "      <td>NaN</td>\n",
              "      <td>NaN</td>\n",
              "      <td>NaN</td>\n",
              "      <td>2.0</td>\n",
              "      <td>NaN</td>\n",
              "      <td>NaN</td>\n",
              "      <td>NaN</td>\n",
              "      <td>NaN</td>\n",
              "      <td>NaN</td>\n",
              "      <td>650756.0</td>\n",
              "      <td>1413387.0</td>\n",
              "      <td>2015.0</td>\n",
              "      <td>762631.0</td>\n",
              "      <td>20800.37</td>\n",
              "      <td>NaN</td>\n",
              "      <td>NaN</td>\n",
              "      <td>NaN</td>\n",
              "    </tr>\n",
              "    <tr>\n",
              "      <th>3</th>\n",
              "      <td>10859147</td>\n",
              "      <td>NaN</td>\n",
              "      <td>NaN</td>\n",
              "      <td>NaN</td>\n",
              "      <td>0.0</td>\n",
              "      <td>0.0</td>\n",
              "      <td>3.0</td>\n",
              "      <td>7.0</td>\n",
              "      <td>NaN</td>\n",
              "      <td>NaN</td>\n",
              "      <td>NaN</td>\n",
              "      <td>5068.0</td>\n",
              "      <td>NaN</td>\n",
              "      <td>NaN</td>\n",
              "      <td>5068.0</td>\n",
              "      <td>NaN</td>\n",
              "      <td>NaN</td>\n",
              "      <td>6037.0</td>\n",
              "      <td>NaN</td>\n",
              "      <td>NaN</td>\n",
              "      <td>NaN</td>\n",
              "      <td>NaN</td>\n",
              "      <td>NaN</td>\n",
              "      <td>NaN</td>\n",
              "      <td>34148863.0</td>\n",
              "      <td>-118437206.0</td>\n",
              "      <td>7521.0</td>\n",
              "      <td>NaN</td>\n",
              "      <td>NaN</td>\n",
              "      <td>NaN</td>\n",
              "      <td>NaN</td>\n",
              "      <td>NaN</td>\n",
              "      <td>1200</td>\n",
              "      <td>47.0</td>\n",
              "      <td>LAC2</td>\n",
              "      <td>6.037141e+07</td>\n",
              "      <td>12447.0</td>\n",
              "      <td>3101.0</td>\n",
              "      <td>27080.0</td>\n",
              "      <td>96424.0</td>\n",
              "      <td>0.0</td>\n",
              "      <td>NaN</td>\n",
              "      <td>NaN</td>\n",
              "      <td>NaN</td>\n",
              "      <td>NaN</td>\n",
              "      <td>NaN</td>\n",
              "      <td>NaN</td>\n",
              "      <td>1948.0</td>\n",
              "      <td>1.0</td>\n",
              "      <td>NaN</td>\n",
              "      <td>571346.0</td>\n",
              "      <td>1156834.0</td>\n",
              "      <td>2015.0</td>\n",
              "      <td>585488.0</td>\n",
              "      <td>14557.57</td>\n",
              "      <td>NaN</td>\n",
              "      <td>NaN</td>\n",
              "      <td>NaN</td>\n",
              "    </tr>\n",
              "    <tr>\n",
              "      <th>4</th>\n",
              "      <td>10879947</td>\n",
              "      <td>NaN</td>\n",
              "      <td>NaN</td>\n",
              "      <td>NaN</td>\n",
              "      <td>0.0</td>\n",
              "      <td>0.0</td>\n",
              "      <td>4.0</td>\n",
              "      <td>NaN</td>\n",
              "      <td>NaN</td>\n",
              "      <td>NaN</td>\n",
              "      <td>NaN</td>\n",
              "      <td>1776.0</td>\n",
              "      <td>NaN</td>\n",
              "      <td>NaN</td>\n",
              "      <td>1776.0</td>\n",
              "      <td>NaN</td>\n",
              "      <td>NaN</td>\n",
              "      <td>6037.0</td>\n",
              "      <td>NaN</td>\n",
              "      <td>NaN</td>\n",
              "      <td>NaN</td>\n",
              "      <td>NaN</td>\n",
              "      <td>NaN</td>\n",
              "      <td>NaN</td>\n",
              "      <td>34194168.0</td>\n",
              "      <td>-118385816.0</td>\n",
              "      <td>8512.0</td>\n",
              "      <td>NaN</td>\n",
              "      <td>NaN</td>\n",
              "      <td>NaN</td>\n",
              "      <td>NaN</td>\n",
              "      <td>NaN</td>\n",
              "      <td>1210</td>\n",
              "      <td>31.0</td>\n",
              "      <td>LAM1</td>\n",
              "      <td>6.037123e+07</td>\n",
              "      <td>12447.0</td>\n",
              "      <td>3101.0</td>\n",
              "      <td>46795.0</td>\n",
              "      <td>96450.0</td>\n",
              "      <td>0.0</td>\n",
              "      <td>NaN</td>\n",
              "      <td>NaN</td>\n",
              "      <td>NaN</td>\n",
              "      <td>1.0</td>\n",
              "      <td>NaN</td>\n",
              "      <td>NaN</td>\n",
              "      <td>1947.0</td>\n",
              "      <td>NaN</td>\n",
              "      <td>NaN</td>\n",
              "      <td>193796.0</td>\n",
              "      <td>433491.0</td>\n",
              "      <td>2015.0</td>\n",
              "      <td>239695.0</td>\n",
              "      <td>5725.17</td>\n",
              "      <td>NaN</td>\n",
              "      <td>NaN</td>\n",
              "      <td>NaN</td>\n",
              "    </tr>\n",
              "  </tbody>\n",
              "</table>\n",
              "</div>"
            ],
            "text/plain": [
              "   parcelid  airconditioningtypeid  ...  taxdelinquencyyear  censustractandblock\n",
              "0  10754147                    NaN  ...                 NaN                  NaN\n",
              "1  10759547                    NaN  ...                 NaN                  NaN\n",
              "2  10843547                    NaN  ...                 NaN                  NaN\n",
              "3  10859147                    NaN  ...                 NaN                  NaN\n",
              "4  10879947                    NaN  ...                 NaN                  NaN\n",
              "\n",
              "[5 rows x 58 columns]"
            ]
          },
          "metadata": {
            "tags": []
          },
          "execution_count": 9
        }
      ]
    },
    {
      "cell_type": "code",
      "metadata": {
        "id": "fg5l8o9pwjA5",
        "colab_type": "code",
        "colab": {
          "base_uri": "https://localhost:8080/",
          "height": 595
        },
        "outputId": "4d79bac5-8917-4710-fe4c-230bf0e9c030"
      },
      "source": [
        " df.isnull().sum().sort_values(ascending=False).head(33)"
      ],
      "execution_count": 10,
      "outputs": [
        {
          "output_type": "execute_result",
          "data": {
            "text/plain": [
              "storytypeid                 2983593\n",
              "basementsqft                2983589\n",
              "yardbuildingsqft26          2982570\n",
              "fireplaceflag               2980054\n",
              "architecturalstyletypeid    2979156\n",
              "typeconstructiontypeid      2978470\n",
              "finishedsquarefeet13        2977545\n",
              "buildingclasstypeid         2972588\n",
              "decktypeid                  2968121\n",
              "finishedsquarefeet6         2963216\n",
              "poolsizesum                 2957257\n",
              "pooltypeid2                 2953142\n",
              "pooltypeid10                2948278\n",
              "taxdelinquencyflag          2928755\n",
              "taxdelinquencyyear          2928753\n",
              "hashottuborspa              2916203\n",
              "yardbuildingsqft17          2904862\n",
              "finishedsquarefeet15        2794419\n",
              "finishedsquarefeet50        2782500\n",
              "finishedfloor1squarefeet    2782500\n",
              "threequarterbathnbr         2673586\n",
              "fireplacecnt                2672580\n",
              "pooltypeid7                 2499758\n",
              "poolcnt                     2467683\n",
              "numberofstories             2303148\n",
              "airconditioningtypeid       2173698\n",
              "garagetotalsqft             2101950\n",
              "garagecarcnt                2101950\n",
              "regionidneighborhood        1828815\n",
              "heatingorsystemtypeid       1178816\n",
              "buildingqualitytypeid       1046729\n",
              "unitcnt                     1007727\n",
              "propertyzoningdesc          1006588\n",
              "dtype: int64"
            ]
          },
          "metadata": {
            "tags": []
          },
          "execution_count": 10
        }
      ]
    },
    {
      "cell_type": "code",
      "metadata": {
        "id": "lVKVvduzFyd8",
        "colab_type": "code",
        "colab": {}
      },
      "source": [
        "badc = df.isnull().sum().sort_values(ascending=False).head(33)"
      ],
      "execution_count": 0,
      "outputs": []
    },
    {
      "cell_type": "code",
      "metadata": {
        "id": "cZIizPkUZEW7",
        "colab_type": "code",
        "colab": {
          "base_uri": "https://localhost:8080/",
          "height": 578
        },
        "outputId": "47da791f-201e-4b47-8fe6-96c5624ae764"
      },
      "source": [
        "badc = badc.reset_index()\n",
        "badc = badc['index']\n",
        "\n",
        "badc_list = []\n",
        "for c in badc:\n",
        "  badc_list.append(c)\n",
        "  \n",
        "badc_list"
      ],
      "execution_count": 12,
      "outputs": [
        {
          "output_type": "execute_result",
          "data": {
            "text/plain": [
              "['storytypeid',\n",
              " 'basementsqft',\n",
              " 'yardbuildingsqft26',\n",
              " 'fireplaceflag',\n",
              " 'architecturalstyletypeid',\n",
              " 'typeconstructiontypeid',\n",
              " 'finishedsquarefeet13',\n",
              " 'buildingclasstypeid',\n",
              " 'decktypeid',\n",
              " 'finishedsquarefeet6',\n",
              " 'poolsizesum',\n",
              " 'pooltypeid2',\n",
              " 'pooltypeid10',\n",
              " 'taxdelinquencyflag',\n",
              " 'taxdelinquencyyear',\n",
              " 'hashottuborspa',\n",
              " 'yardbuildingsqft17',\n",
              " 'finishedsquarefeet15',\n",
              " 'finishedsquarefeet50',\n",
              " 'finishedfloor1squarefeet',\n",
              " 'threequarterbathnbr',\n",
              " 'fireplacecnt',\n",
              " 'pooltypeid7',\n",
              " 'poolcnt',\n",
              " 'numberofstories',\n",
              " 'airconditioningtypeid',\n",
              " 'garagetotalsqft',\n",
              " 'garagecarcnt',\n",
              " 'regionidneighborhood',\n",
              " 'heatingorsystemtypeid',\n",
              " 'buildingqualitytypeid',\n",
              " 'unitcnt',\n",
              " 'propertyzoningdesc']"
            ]
          },
          "metadata": {
            "tags": []
          },
          "execution_count": 12
        }
      ]
    },
    {
      "cell_type": "code",
      "metadata": {
        "id": "U1IDYw6rF8Yo",
        "colab_type": "code",
        "colab": {}
      },
      "source": [
        "df1 = df.drop(columns=badc_list)"
      ],
      "execution_count": 0,
      "outputs": []
    },
    {
      "cell_type": "code",
      "metadata": {
        "id": "OE2qM_VGaG-E",
        "colab_type": "code",
        "colab": {
          "base_uri": "https://localhost:8080/",
          "height": 241
        },
        "outputId": "1a3cbd9b-c33e-4814-e737-3086afcc25e6"
      },
      "source": [
        "print(df1.shape)\n",
        "df1.head()"
      ],
      "execution_count": 14,
      "outputs": [
        {
          "output_type": "stream",
          "text": [
            "(2985217, 25)\n"
          ],
          "name": "stdout"
        },
        {
          "output_type": "execute_result",
          "data": {
            "text/html": [
              "<div>\n",
              "<style scoped>\n",
              "    .dataframe tbody tr th:only-of-type {\n",
              "        vertical-align: middle;\n",
              "    }\n",
              "\n",
              "    .dataframe tbody tr th {\n",
              "        vertical-align: top;\n",
              "    }\n",
              "\n",
              "    .dataframe thead th {\n",
              "        text-align: right;\n",
              "    }\n",
              "</style>\n",
              "<table border=\"1\" class=\"dataframe\">\n",
              "  <thead>\n",
              "    <tr style=\"text-align: right;\">\n",
              "      <th></th>\n",
              "      <th>parcelid</th>\n",
              "      <th>bathroomcnt</th>\n",
              "      <th>bedroomcnt</th>\n",
              "      <th>calculatedbathnbr</th>\n",
              "      <th>calculatedfinishedsquarefeet</th>\n",
              "      <th>finishedsquarefeet12</th>\n",
              "      <th>fips</th>\n",
              "      <th>fullbathcnt</th>\n",
              "      <th>latitude</th>\n",
              "      <th>longitude</th>\n",
              "      <th>lotsizesquarefeet</th>\n",
              "      <th>propertycountylandusecode</th>\n",
              "      <th>propertylandusetypeid</th>\n",
              "      <th>rawcensustractandblock</th>\n",
              "      <th>regionidcity</th>\n",
              "      <th>regionidcounty</th>\n",
              "      <th>regionidzip</th>\n",
              "      <th>roomcnt</th>\n",
              "      <th>yearbuilt</th>\n",
              "      <th>structuretaxvaluedollarcnt</th>\n",
              "      <th>taxvaluedollarcnt</th>\n",
              "      <th>assessmentyear</th>\n",
              "      <th>landtaxvaluedollarcnt</th>\n",
              "      <th>taxamount</th>\n",
              "      <th>censustractandblock</th>\n",
              "    </tr>\n",
              "  </thead>\n",
              "  <tbody>\n",
              "    <tr>\n",
              "      <th>0</th>\n",
              "      <td>10754147</td>\n",
              "      <td>0.0</td>\n",
              "      <td>0.0</td>\n",
              "      <td>NaN</td>\n",
              "      <td>NaN</td>\n",
              "      <td>NaN</td>\n",
              "      <td>6037.0</td>\n",
              "      <td>NaN</td>\n",
              "      <td>34144442.0</td>\n",
              "      <td>-118654084.0</td>\n",
              "      <td>85768.0</td>\n",
              "      <td>010D</td>\n",
              "      <td>269.0</td>\n",
              "      <td>6.037800e+07</td>\n",
              "      <td>37688.0</td>\n",
              "      <td>3101.0</td>\n",
              "      <td>96337.0</td>\n",
              "      <td>0.0</td>\n",
              "      <td>NaN</td>\n",
              "      <td>NaN</td>\n",
              "      <td>9.0</td>\n",
              "      <td>2015.0</td>\n",
              "      <td>9.0</td>\n",
              "      <td>NaN</td>\n",
              "      <td>NaN</td>\n",
              "    </tr>\n",
              "    <tr>\n",
              "      <th>1</th>\n",
              "      <td>10759547</td>\n",
              "      <td>0.0</td>\n",
              "      <td>0.0</td>\n",
              "      <td>NaN</td>\n",
              "      <td>NaN</td>\n",
              "      <td>NaN</td>\n",
              "      <td>6037.0</td>\n",
              "      <td>NaN</td>\n",
              "      <td>34140430.0</td>\n",
              "      <td>-118625364.0</td>\n",
              "      <td>4083.0</td>\n",
              "      <td>0109</td>\n",
              "      <td>261.0</td>\n",
              "      <td>6.037800e+07</td>\n",
              "      <td>37688.0</td>\n",
              "      <td>3101.0</td>\n",
              "      <td>96337.0</td>\n",
              "      <td>0.0</td>\n",
              "      <td>NaN</td>\n",
              "      <td>NaN</td>\n",
              "      <td>27516.0</td>\n",
              "      <td>2015.0</td>\n",
              "      <td>27516.0</td>\n",
              "      <td>NaN</td>\n",
              "      <td>NaN</td>\n",
              "    </tr>\n",
              "    <tr>\n",
              "      <th>2</th>\n",
              "      <td>10843547</td>\n",
              "      <td>0.0</td>\n",
              "      <td>0.0</td>\n",
              "      <td>NaN</td>\n",
              "      <td>73026.0</td>\n",
              "      <td>NaN</td>\n",
              "      <td>6037.0</td>\n",
              "      <td>NaN</td>\n",
              "      <td>33989359.0</td>\n",
              "      <td>-118394633.0</td>\n",
              "      <td>63085.0</td>\n",
              "      <td>1200</td>\n",
              "      <td>47.0</td>\n",
              "      <td>6.037703e+07</td>\n",
              "      <td>51617.0</td>\n",
              "      <td>3101.0</td>\n",
              "      <td>96095.0</td>\n",
              "      <td>0.0</td>\n",
              "      <td>NaN</td>\n",
              "      <td>650756.0</td>\n",
              "      <td>1413387.0</td>\n",
              "      <td>2015.0</td>\n",
              "      <td>762631.0</td>\n",
              "      <td>20800.37</td>\n",
              "      <td>NaN</td>\n",
              "    </tr>\n",
              "    <tr>\n",
              "      <th>3</th>\n",
              "      <td>10859147</td>\n",
              "      <td>0.0</td>\n",
              "      <td>0.0</td>\n",
              "      <td>NaN</td>\n",
              "      <td>5068.0</td>\n",
              "      <td>NaN</td>\n",
              "      <td>6037.0</td>\n",
              "      <td>NaN</td>\n",
              "      <td>34148863.0</td>\n",
              "      <td>-118437206.0</td>\n",
              "      <td>7521.0</td>\n",
              "      <td>1200</td>\n",
              "      <td>47.0</td>\n",
              "      <td>6.037141e+07</td>\n",
              "      <td>12447.0</td>\n",
              "      <td>3101.0</td>\n",
              "      <td>96424.0</td>\n",
              "      <td>0.0</td>\n",
              "      <td>1948.0</td>\n",
              "      <td>571346.0</td>\n",
              "      <td>1156834.0</td>\n",
              "      <td>2015.0</td>\n",
              "      <td>585488.0</td>\n",
              "      <td>14557.57</td>\n",
              "      <td>NaN</td>\n",
              "    </tr>\n",
              "    <tr>\n",
              "      <th>4</th>\n",
              "      <td>10879947</td>\n",
              "      <td>0.0</td>\n",
              "      <td>0.0</td>\n",
              "      <td>NaN</td>\n",
              "      <td>1776.0</td>\n",
              "      <td>NaN</td>\n",
              "      <td>6037.0</td>\n",
              "      <td>NaN</td>\n",
              "      <td>34194168.0</td>\n",
              "      <td>-118385816.0</td>\n",
              "      <td>8512.0</td>\n",
              "      <td>1210</td>\n",
              "      <td>31.0</td>\n",
              "      <td>6.037123e+07</td>\n",
              "      <td>12447.0</td>\n",
              "      <td>3101.0</td>\n",
              "      <td>96450.0</td>\n",
              "      <td>0.0</td>\n",
              "      <td>1947.0</td>\n",
              "      <td>193796.0</td>\n",
              "      <td>433491.0</td>\n",
              "      <td>2015.0</td>\n",
              "      <td>239695.0</td>\n",
              "      <td>5725.17</td>\n",
              "      <td>NaN</td>\n",
              "    </tr>\n",
              "  </tbody>\n",
              "</table>\n",
              "</div>"
            ],
            "text/plain": [
              "   parcelid  bathroomcnt  ...  taxamount  censustractandblock\n",
              "0  10754147          0.0  ...        NaN                  NaN\n",
              "1  10759547          0.0  ...        NaN                  NaN\n",
              "2  10843547          0.0  ...   20800.37                  NaN\n",
              "3  10859147          0.0  ...   14557.57                  NaN\n",
              "4  10879947          0.0  ...    5725.17                  NaN\n",
              "\n",
              "[5 rows x 25 columns]"
            ]
          },
          "metadata": {
            "tags": []
          },
          "execution_count": 14
        }
      ]
    },
    {
      "cell_type": "code",
      "metadata": {
        "id": "mgZ_ip3sF8Ug",
        "colab_type": "code",
        "colab": {
          "base_uri": "https://localhost:8080/",
          "height": 459
        },
        "outputId": "a8c1347c-929a-422f-9a70-12df2a47c634"
      },
      "source": [
        "df1.isnull().sum().sort_values(ascending=False)"
      ],
      "execution_count": 15,
      "outputs": [
        {
          "output_type": "execute_result",
          "data": {
            "text/plain": [
              "lotsizesquarefeet               276099\n",
              "finishedsquarefeet12            276033\n",
              "fullbathcnt                     128912\n",
              "calculatedbathnbr               128912\n",
              "censustractandblock              75126\n",
              "landtaxvaluedollarcnt            67733\n",
              "regionidcity                     62845\n",
              "yearbuilt                        59928\n",
              "calculatedfinishedsquarefeet     55565\n",
              "structuretaxvaluedollarcnt       54982\n",
              "taxvaluedollarcnt                42550\n",
              "taxamount                        31250\n",
              "regionidzip                      13980\n",
              "propertycountylandusecode        12277\n",
              "roomcnt                          11475\n",
              "bathroomcnt                      11462\n",
              "bedroomcnt                       11450\n",
              "assessmentyear                   11439\n",
              "propertylandusetypeid            11437\n",
              "fips                             11437\n",
              "latitude                         11437\n",
              "longitude                        11437\n",
              "rawcensustractandblock           11437\n",
              "regionidcounty                   11437\n",
              "parcelid                             0\n",
              "dtype: int64"
            ]
          },
          "metadata": {
            "tags": []
          },
          "execution_count": 15
        }
      ]
    },
    {
      "cell_type": "code",
      "metadata": {
        "id": "5XBYQ8WvYoAe",
        "colab_type": "code",
        "colab": {}
      },
      "source": [
        "df1 = df1.drop(columns=['regionidcity', 'longitude', 'latitude',\n",
        "                        'regionidcounty', 'propertycountylandusecode', 'censustractandblock'])"
      ],
      "execution_count": 0,
      "outputs": []
    },
    {
      "cell_type": "code",
      "metadata": {
        "id": "tGFjRnBWZkdP",
        "colab_type": "code",
        "colab": {
          "base_uri": "https://localhost:8080/",
          "height": 224
        },
        "outputId": "2eb32c1c-e51e-42ab-8284-67822a83ceb1"
      },
      "source": [
        "df1.head()"
      ],
      "execution_count": 17,
      "outputs": [
        {
          "output_type": "execute_result",
          "data": {
            "text/html": [
              "<div>\n",
              "<style scoped>\n",
              "    .dataframe tbody tr th:only-of-type {\n",
              "        vertical-align: middle;\n",
              "    }\n",
              "\n",
              "    .dataframe tbody tr th {\n",
              "        vertical-align: top;\n",
              "    }\n",
              "\n",
              "    .dataframe thead th {\n",
              "        text-align: right;\n",
              "    }\n",
              "</style>\n",
              "<table border=\"1\" class=\"dataframe\">\n",
              "  <thead>\n",
              "    <tr style=\"text-align: right;\">\n",
              "      <th></th>\n",
              "      <th>parcelid</th>\n",
              "      <th>bathroomcnt</th>\n",
              "      <th>bedroomcnt</th>\n",
              "      <th>calculatedbathnbr</th>\n",
              "      <th>calculatedfinishedsquarefeet</th>\n",
              "      <th>finishedsquarefeet12</th>\n",
              "      <th>fips</th>\n",
              "      <th>fullbathcnt</th>\n",
              "      <th>lotsizesquarefeet</th>\n",
              "      <th>propertylandusetypeid</th>\n",
              "      <th>rawcensustractandblock</th>\n",
              "      <th>regionidzip</th>\n",
              "      <th>roomcnt</th>\n",
              "      <th>yearbuilt</th>\n",
              "      <th>structuretaxvaluedollarcnt</th>\n",
              "      <th>taxvaluedollarcnt</th>\n",
              "      <th>assessmentyear</th>\n",
              "      <th>landtaxvaluedollarcnt</th>\n",
              "      <th>taxamount</th>\n",
              "    </tr>\n",
              "  </thead>\n",
              "  <tbody>\n",
              "    <tr>\n",
              "      <th>0</th>\n",
              "      <td>10754147</td>\n",
              "      <td>0.0</td>\n",
              "      <td>0.0</td>\n",
              "      <td>NaN</td>\n",
              "      <td>NaN</td>\n",
              "      <td>NaN</td>\n",
              "      <td>6037.0</td>\n",
              "      <td>NaN</td>\n",
              "      <td>85768.0</td>\n",
              "      <td>269.0</td>\n",
              "      <td>6.037800e+07</td>\n",
              "      <td>96337.0</td>\n",
              "      <td>0.0</td>\n",
              "      <td>NaN</td>\n",
              "      <td>NaN</td>\n",
              "      <td>9.0</td>\n",
              "      <td>2015.0</td>\n",
              "      <td>9.0</td>\n",
              "      <td>NaN</td>\n",
              "    </tr>\n",
              "    <tr>\n",
              "      <th>1</th>\n",
              "      <td>10759547</td>\n",
              "      <td>0.0</td>\n",
              "      <td>0.0</td>\n",
              "      <td>NaN</td>\n",
              "      <td>NaN</td>\n",
              "      <td>NaN</td>\n",
              "      <td>6037.0</td>\n",
              "      <td>NaN</td>\n",
              "      <td>4083.0</td>\n",
              "      <td>261.0</td>\n",
              "      <td>6.037800e+07</td>\n",
              "      <td>96337.0</td>\n",
              "      <td>0.0</td>\n",
              "      <td>NaN</td>\n",
              "      <td>NaN</td>\n",
              "      <td>27516.0</td>\n",
              "      <td>2015.0</td>\n",
              "      <td>27516.0</td>\n",
              "      <td>NaN</td>\n",
              "    </tr>\n",
              "    <tr>\n",
              "      <th>2</th>\n",
              "      <td>10843547</td>\n",
              "      <td>0.0</td>\n",
              "      <td>0.0</td>\n",
              "      <td>NaN</td>\n",
              "      <td>73026.0</td>\n",
              "      <td>NaN</td>\n",
              "      <td>6037.0</td>\n",
              "      <td>NaN</td>\n",
              "      <td>63085.0</td>\n",
              "      <td>47.0</td>\n",
              "      <td>6.037703e+07</td>\n",
              "      <td>96095.0</td>\n",
              "      <td>0.0</td>\n",
              "      <td>NaN</td>\n",
              "      <td>650756.0</td>\n",
              "      <td>1413387.0</td>\n",
              "      <td>2015.0</td>\n",
              "      <td>762631.0</td>\n",
              "      <td>20800.37</td>\n",
              "    </tr>\n",
              "    <tr>\n",
              "      <th>3</th>\n",
              "      <td>10859147</td>\n",
              "      <td>0.0</td>\n",
              "      <td>0.0</td>\n",
              "      <td>NaN</td>\n",
              "      <td>5068.0</td>\n",
              "      <td>NaN</td>\n",
              "      <td>6037.0</td>\n",
              "      <td>NaN</td>\n",
              "      <td>7521.0</td>\n",
              "      <td>47.0</td>\n",
              "      <td>6.037141e+07</td>\n",
              "      <td>96424.0</td>\n",
              "      <td>0.0</td>\n",
              "      <td>1948.0</td>\n",
              "      <td>571346.0</td>\n",
              "      <td>1156834.0</td>\n",
              "      <td>2015.0</td>\n",
              "      <td>585488.0</td>\n",
              "      <td>14557.57</td>\n",
              "    </tr>\n",
              "    <tr>\n",
              "      <th>4</th>\n",
              "      <td>10879947</td>\n",
              "      <td>0.0</td>\n",
              "      <td>0.0</td>\n",
              "      <td>NaN</td>\n",
              "      <td>1776.0</td>\n",
              "      <td>NaN</td>\n",
              "      <td>6037.0</td>\n",
              "      <td>NaN</td>\n",
              "      <td>8512.0</td>\n",
              "      <td>31.0</td>\n",
              "      <td>6.037123e+07</td>\n",
              "      <td>96450.0</td>\n",
              "      <td>0.0</td>\n",
              "      <td>1947.0</td>\n",
              "      <td>193796.0</td>\n",
              "      <td>433491.0</td>\n",
              "      <td>2015.0</td>\n",
              "      <td>239695.0</td>\n",
              "      <td>5725.17</td>\n",
              "    </tr>\n",
              "  </tbody>\n",
              "</table>\n",
              "</div>"
            ],
            "text/plain": [
              "   parcelid  bathroomcnt  ...  landtaxvaluedollarcnt  taxamount\n",
              "0  10754147          0.0  ...                    9.0        NaN\n",
              "1  10759547          0.0  ...                27516.0        NaN\n",
              "2  10843547          0.0  ...               762631.0   20800.37\n",
              "3  10859147          0.0  ...               585488.0   14557.57\n",
              "4  10879947          0.0  ...               239695.0    5725.17\n",
              "\n",
              "[5 rows x 19 columns]"
            ]
          },
          "metadata": {
            "tags": []
          },
          "execution_count": 17
        }
      ]
    },
    {
      "cell_type": "code",
      "metadata": {
        "id": "FqCEyBkSF8R1",
        "colab_type": "code",
        "colab": {
          "base_uri": "https://localhost:8080/",
          "height": 272
        },
        "outputId": "8b6607d6-1803-4adc-9d7e-5357ab4affff"
      },
      "source": [
        "df1['assessmentyear'].value_counts()"
      ],
      "execution_count": 18,
      "outputs": [
        {
          "output_type": "execute_result",
          "data": {
            "text/plain": [
              "2015.0    2972420\n",
              "2014.0       1306\n",
              "2012.0         26\n",
              "2004.0          6\n",
              "2013.0          4\n",
              "2003.0          3\n",
              "2001.0          3\n",
              "2010.0          2\n",
              "2009.0          2\n",
              "2005.0          2\n",
              "2016.0          1\n",
              "2011.0          1\n",
              "2002.0          1\n",
              "2000.0          1\n",
              "Name: assessmentyear, dtype: int64"
            ]
          },
          "metadata": {
            "tags": []
          },
          "execution_count": 18
        }
      ]
    },
    {
      "cell_type": "code",
      "metadata": {
        "id": "Em_cFr7NF8NJ",
        "colab_type": "code",
        "colab": {}
      },
      "source": [
        "df2 = df1[df1['assessmentyear'] == 2015.0]"
      ],
      "execution_count": 0,
      "outputs": []
    },
    {
      "cell_type": "code",
      "metadata": {
        "id": "9wj0SrarF8K_",
        "colab_type": "code",
        "colab": {
          "base_uri": "https://localhost:8080/",
          "height": 357
        },
        "outputId": "aaa094f0-31a8-4106-ee00-bf4b93c5b21f"
      },
      "source": [
        "df2.isnull().sum().sort_values(ascending=False)"
      ],
      "execution_count": 20,
      "outputs": [
        {
          "output_type": "execute_result",
          "data": {
            "text/plain": [
              "lotsizesquarefeet               264357\n",
              "finishedsquarefeet12            263898\n",
              "fullbathcnt                     116939\n",
              "calculatedbathnbr               116939\n",
              "landtaxvaluedollarcnt            56285\n",
              "yearbuilt                        48061\n",
              "calculatedfinishedsquarefeet     43688\n",
              "structuretaxvaluedollarcnt       43164\n",
              "taxvaluedollarcnt                31103\n",
              "taxamount                        19574\n",
              "regionidzip                       1184\n",
              "roomcnt                              1\n",
              "bathroomcnt                          0\n",
              "bedroomcnt                           0\n",
              "propertylandusetypeid                0\n",
              "fips                                 0\n",
              "rawcensustractandblock               0\n",
              "assessmentyear                       0\n",
              "parcelid                             0\n",
              "dtype: int64"
            ]
          },
          "metadata": {
            "tags": []
          },
          "execution_count": 20
        }
      ]
    },
    {
      "cell_type": "code",
      "metadata": {
        "id": "F02Pq1nQF8IU",
        "colab_type": "code",
        "colab": {}
      },
      "source": [
        "df3 = df2.dropna(axis=0)"
      ],
      "execution_count": 0,
      "outputs": []
    },
    {
      "cell_type": "code",
      "metadata": {
        "id": "BOeujG_disoi",
        "colab_type": "code",
        "colab": {
          "base_uri": "https://localhost:8080/",
          "height": 357
        },
        "outputId": "b11ffc04-39c7-4860-be57-b4ab97c583b5"
      },
      "source": [
        "df3.isnull().sum()"
      ],
      "execution_count": 22,
      "outputs": [
        {
          "output_type": "execute_result",
          "data": {
            "text/plain": [
              "parcelid                        0\n",
              "bathroomcnt                     0\n",
              "bedroomcnt                      0\n",
              "calculatedbathnbr               0\n",
              "calculatedfinishedsquarefeet    0\n",
              "finishedsquarefeet12            0\n",
              "fips                            0\n",
              "fullbathcnt                     0\n",
              "lotsizesquarefeet               0\n",
              "propertylandusetypeid           0\n",
              "rawcensustractandblock          0\n",
              "regionidzip                     0\n",
              "roomcnt                         0\n",
              "yearbuilt                       0\n",
              "structuretaxvaluedollarcnt      0\n",
              "taxvaluedollarcnt               0\n",
              "assessmentyear                  0\n",
              "landtaxvaluedollarcnt           0\n",
              "taxamount                       0\n",
              "dtype: int64"
            ]
          },
          "metadata": {
            "tags": []
          },
          "execution_count": 22
        }
      ]
    },
    {
      "cell_type": "code",
      "metadata": {
        "id": "RgFsTHjlmoqG",
        "colab_type": "code",
        "colab": {}
      },
      "source": [
        "df3 = df3.drop(columns=['assessmentyear'])"
      ],
      "execution_count": 0,
      "outputs": []
    },
    {
      "cell_type": "code",
      "metadata": {
        "id": "OCcWyYDjGu87",
        "colab_type": "code",
        "colab": {}
      },
      "source": [
        "df3 = df3[['parcelid', 'bathroomcnt', 'bedroomcnt', 'regionidzip', 'yearbuilt', 'calculatedfinishedsquarefeet', 'taxvaluedollarcnt']]"
      ],
      "execution_count": 0,
      "outputs": []
    },
    {
      "cell_type": "code",
      "metadata": {
        "id": "uSU_35QHiu_U",
        "colab_type": "code",
        "colab": {
          "base_uri": "https://localhost:8080/",
          "height": 221
        },
        "outputId": "c5b75dfc-1ca9-4db5-a6d0-76486b2316f4"
      },
      "source": [
        "df3 = df3.reset_index(drop=True)\n",
        "print(df3.shape)\n",
        "df3.head()"
      ],
      "execution_count": 28,
      "outputs": [
        {
          "output_type": "stream",
          "text": [
            "(2471261, 7)\n"
          ],
          "name": "stdout"
        },
        {
          "output_type": "execute_result",
          "data": {
            "text/html": [
              "<div>\n",
              "<style scoped>\n",
              "    .dataframe tbody tr th:only-of-type {\n",
              "        vertical-align: middle;\n",
              "    }\n",
              "\n",
              "    .dataframe tbody tr th {\n",
              "        vertical-align: top;\n",
              "    }\n",
              "\n",
              "    .dataframe thead th {\n",
              "        text-align: right;\n",
              "    }\n",
              "</style>\n",
              "<table border=\"1\" class=\"dataframe\">\n",
              "  <thead>\n",
              "    <tr style=\"text-align: right;\">\n",
              "      <th></th>\n",
              "      <th>parcelid</th>\n",
              "      <th>bathroomcnt</th>\n",
              "      <th>bedroomcnt</th>\n",
              "      <th>regionidzip</th>\n",
              "      <th>yearbuilt</th>\n",
              "      <th>calculatedfinishedsquarefeet</th>\n",
              "      <th>taxvaluedollarcnt</th>\n",
              "    </tr>\n",
              "  </thead>\n",
              "  <tbody>\n",
              "    <tr>\n",
              "      <th>0</th>\n",
              "      <td>11324547</td>\n",
              "      <td>2.0</td>\n",
              "      <td>4.0</td>\n",
              "      <td>97329.0</td>\n",
              "      <td>2005.0</td>\n",
              "      <td>3633.0</td>\n",
              "      <td>291973.0</td>\n",
              "    </tr>\n",
              "    <tr>\n",
              "      <th>1</th>\n",
              "      <td>11524947</td>\n",
              "      <td>2.0</td>\n",
              "      <td>2.0</td>\n",
              "      <td>96072.0</td>\n",
              "      <td>2004.0</td>\n",
              "      <td>1090.0</td>\n",
              "      <td>352198.0</td>\n",
              "    </tr>\n",
              "    <tr>\n",
              "      <th>2</th>\n",
              "      <td>11585547</td>\n",
              "      <td>2.0</td>\n",
              "      <td>3.0</td>\n",
              "      <td>96152.0</td>\n",
              "      <td>1926.0</td>\n",
              "      <td>2077.0</td>\n",
              "      <td>637046.0</td>\n",
              "    </tr>\n",
              "    <tr>\n",
              "      <th>3</th>\n",
              "      <td>12508747</td>\n",
              "      <td>3.0</td>\n",
              "      <td>0.0</td>\n",
              "      <td>96234.0</td>\n",
              "      <td>2004.0</td>\n",
              "      <td>9893.0</td>\n",
              "      <td>1716511.0</td>\n",
              "    </tr>\n",
              "    <tr>\n",
              "      <th>4</th>\n",
              "      <td>12606547</td>\n",
              "      <td>3.0</td>\n",
              "      <td>3.0</td>\n",
              "      <td>96161.0</td>\n",
              "      <td>2005.0</td>\n",
              "      <td>2166.0</td>\n",
              "      <td>659000.0</td>\n",
              "    </tr>\n",
              "  </tbody>\n",
              "</table>\n",
              "</div>"
            ],
            "text/plain": [
              "   parcelid  bathroomcnt  ...  calculatedfinishedsquarefeet  taxvaluedollarcnt\n",
              "0  11324547          2.0  ...                        3633.0           291973.0\n",
              "1  11524947          2.0  ...                        1090.0           352198.0\n",
              "2  11585547          2.0  ...                        2077.0           637046.0\n",
              "3  12508747          3.0  ...                        9893.0          1716511.0\n",
              "4  12606547          3.0  ...                        2166.0           659000.0\n",
              "\n",
              "[5 rows x 7 columns]"
            ]
          },
          "metadata": {
            "tags": []
          },
          "execution_count": 28
        }
      ]
    },
    {
      "cell_type": "code",
      "metadata": {
        "id": "uHJJw0c2ItVV",
        "colab_type": "code",
        "colab": {
          "base_uri": "https://localhost:8080/",
          "height": 297
        },
        "outputId": "6abd9c01-d56f-425e-f22c-aaaa56dbf35b"
      },
      "source": [
        "df3.describe()"
      ],
      "execution_count": 29,
      "outputs": [
        {
          "output_type": "execute_result",
          "data": {
            "text/html": [
              "<div>\n",
              "<style scoped>\n",
              "    .dataframe tbody tr th:only-of-type {\n",
              "        vertical-align: middle;\n",
              "    }\n",
              "\n",
              "    .dataframe tbody tr th {\n",
              "        vertical-align: top;\n",
              "    }\n",
              "\n",
              "    .dataframe thead th {\n",
              "        text-align: right;\n",
              "    }\n",
              "</style>\n",
              "<table border=\"1\" class=\"dataframe\">\n",
              "  <thead>\n",
              "    <tr style=\"text-align: right;\">\n",
              "      <th></th>\n",
              "      <th>parcelid</th>\n",
              "      <th>bathroomcnt</th>\n",
              "      <th>bedroomcnt</th>\n",
              "      <th>regionidzip</th>\n",
              "      <th>yearbuilt</th>\n",
              "      <th>calculatedfinishedsquarefeet</th>\n",
              "      <th>taxvaluedollarcnt</th>\n",
              "    </tr>\n",
              "  </thead>\n",
              "  <tbody>\n",
              "    <tr>\n",
              "      <th>count</th>\n",
              "      <td>2.471261e+06</td>\n",
              "      <td>2.471261e+06</td>\n",
              "      <td>2.471261e+06</td>\n",
              "      <td>2.471261e+06</td>\n",
              "      <td>2.471261e+06</td>\n",
              "      <td>2.471261e+06</td>\n",
              "      <td>2.471261e+06</td>\n",
              "    </tr>\n",
              "    <tr>\n",
              "      <th>mean</th>\n",
              "      <td>1.282200e+07</td>\n",
              "      <td>2.253286e+00</td>\n",
              "      <td>3.176577e+00</td>\n",
              "      <td>9.654737e+04</td>\n",
              "      <td>1.963883e+03</td>\n",
              "      <td>1.794259e+03</td>\n",
              "      <td>4.231019e+05</td>\n",
              "    </tr>\n",
              "    <tr>\n",
              "      <th>std</th>\n",
              "      <td>2.210337e+06</td>\n",
              "      <td>9.534987e-01</td>\n",
              "      <td>9.696219e-01</td>\n",
              "      <td>3.876956e+03</td>\n",
              "      <td>2.214628e+01</td>\n",
              "      <td>9.306037e+02</td>\n",
              "      <td>5.859331e+05</td>\n",
              "    </tr>\n",
              "    <tr>\n",
              "      <th>min</th>\n",
              "      <td>1.071172e+07</td>\n",
              "      <td>1.000000e+00</td>\n",
              "      <td>0.000000e+00</td>\n",
              "      <td>9.598200e+04</td>\n",
              "      <td>1.801000e+03</td>\n",
              "      <td>1.000000e+00</td>\n",
              "      <td>2.300000e+01</td>\n",
              "    </tr>\n",
              "    <tr>\n",
              "      <th>25%</th>\n",
              "      <td>1.155080e+07</td>\n",
              "      <td>2.000000e+00</td>\n",
              "      <td>3.000000e+00</td>\n",
              "      <td>9.618600e+04</td>\n",
              "      <td>1.951000e+03</td>\n",
              "      <td>1.219000e+03</td>\n",
              "      <td>1.819100e+05</td>\n",
              "    </tr>\n",
              "    <tr>\n",
              "      <th>50%</th>\n",
              "      <td>1.247805e+07</td>\n",
              "      <td>2.000000e+00</td>\n",
              "      <td>3.000000e+00</td>\n",
              "      <td>9.637300e+04</td>\n",
              "      <td>1.962000e+03</td>\n",
              "      <td>1.570000e+03</td>\n",
              "      <td>3.076140e+05</td>\n",
              "    </tr>\n",
              "    <tr>\n",
              "      <th>75%</th>\n",
              "      <td>1.397457e+07</td>\n",
              "      <td>3.000000e+00</td>\n",
              "      <td>4.000000e+00</td>\n",
              "      <td>9.696700e+04</td>\n",
              "      <td>1.980000e+03</td>\n",
              "      <td>2.118000e+03</td>\n",
              "      <td>4.934040e+05</td>\n",
              "    </tr>\n",
              "    <tr>\n",
              "      <th>max</th>\n",
              "      <td>1.632759e+08</td>\n",
              "      <td>2.000000e+01</td>\n",
              "      <td>1.800000e+01</td>\n",
              "      <td>3.996750e+05</td>\n",
              "      <td>2.015000e+03</td>\n",
              "      <td>1.155540e+05</td>\n",
              "      <td>8.883375e+07</td>\n",
              "    </tr>\n",
              "  </tbody>\n",
              "</table>\n",
              "</div>"
            ],
            "text/plain": [
              "           parcelid  ...  taxvaluedollarcnt\n",
              "count  2.471261e+06  ...       2.471261e+06\n",
              "mean   1.282200e+07  ...       4.231019e+05\n",
              "std    2.210337e+06  ...       5.859331e+05\n",
              "min    1.071172e+07  ...       2.300000e+01\n",
              "25%    1.155080e+07  ...       1.819100e+05\n",
              "50%    1.247805e+07  ...       3.076140e+05\n",
              "75%    1.397457e+07  ...       4.934040e+05\n",
              "max    1.632759e+08  ...       8.883375e+07\n",
              "\n",
              "[8 rows x 7 columns]"
            ]
          },
          "metadata": {
            "tags": []
          },
          "execution_count": 29
        }
      ]
    },
    {
      "cell_type": "code",
      "metadata": {
        "id": "PKyMMWYgmYbQ",
        "colab_type": "code",
        "colab": {}
      },
      "source": [
        "fdf = df3.drop(columns=['taxvaluedollarcnt'])"
      ],
      "execution_count": 0,
      "outputs": []
    },
    {
      "cell_type": "code",
      "metadata": {
        "id": "N5sgFSoFpCd7",
        "colab_type": "code",
        "colab": {}
      },
      "source": [
        "targetdf = df3[['parcelid', 'taxvaluedollarcnt']].reset_index(drop=True)"
      ],
      "execution_count": 0,
      "outputs": []
    },
    {
      "cell_type": "code",
      "metadata": {
        "id": "hdcZzyF3mYle",
        "colab_type": "code",
        "colab": {
          "base_uri": "https://localhost:8080/",
          "height": 204
        },
        "outputId": "143a4ba1-237f-4b94-ae66-d37604902293"
      },
      "source": [
        "targetdf.head()"
      ],
      "execution_count": 47,
      "outputs": [
        {
          "output_type": "execute_result",
          "data": {
            "text/html": [
              "<div>\n",
              "<style scoped>\n",
              "    .dataframe tbody tr th:only-of-type {\n",
              "        vertical-align: middle;\n",
              "    }\n",
              "\n",
              "    .dataframe tbody tr th {\n",
              "        vertical-align: top;\n",
              "    }\n",
              "\n",
              "    .dataframe thead th {\n",
              "        text-align: right;\n",
              "    }\n",
              "</style>\n",
              "<table border=\"1\" class=\"dataframe\">\n",
              "  <thead>\n",
              "    <tr style=\"text-align: right;\">\n",
              "      <th></th>\n",
              "      <th>parcelid</th>\n",
              "      <th>taxvaluedollarcnt</th>\n",
              "    </tr>\n",
              "  </thead>\n",
              "  <tbody>\n",
              "    <tr>\n",
              "      <th>0</th>\n",
              "      <td>17051828</td>\n",
              "      <td>2195000.0</td>\n",
              "    </tr>\n",
              "    <tr>\n",
              "      <th>1</th>\n",
              "      <td>17052152</td>\n",
              "      <td>783000.0</td>\n",
              "    </tr>\n",
              "    <tr>\n",
              "      <th>2</th>\n",
              "      <td>17052992</td>\n",
              "      <td>87400.0</td>\n",
              "    </tr>\n",
              "    <tr>\n",
              "      <th>3</th>\n",
              "      <td>17053038</td>\n",
              "      <td>229920.0</td>\n",
              "    </tr>\n",
              "    <tr>\n",
              "      <th>4</th>\n",
              "      <td>17053061</td>\n",
              "      <td>309132.0</td>\n",
              "    </tr>\n",
              "  </tbody>\n",
              "</table>\n",
              "</div>"
            ],
            "text/plain": [
              "   parcelid  taxvaluedollarcnt\n",
              "0  17051828          2195000.0\n",
              "1  17052152           783000.0\n",
              "2  17052992            87400.0\n",
              "3  17053038           229920.0\n",
              "4  17053061           309132.0"
            ]
          },
          "metadata": {
            "tags": []
          },
          "execution_count": 47
        }
      ]
    },
    {
      "cell_type": "code",
      "metadata": {
        "id": "lP0H7yKwlGT1",
        "colab_type": "code",
        "colab": {}
      },
      "source": [
        "from google.colab import files"
      ],
      "execution_count": 0,
      "outputs": []
    },
    {
      "cell_type": "code",
      "metadata": {
        "id": "n9updCNjizoe",
        "colab_type": "code",
        "colab": {}
      },
      "source": [
        "df3.to_csv('c1_properties_2016.csv')\n",
        "files.download('c1_properties_2016.csv')"
      ],
      "execution_count": 0,
      "outputs": []
    },
    {
      "cell_type": "code",
      "metadata": {
        "id": "8yMdva_PpnUL",
        "colab_type": "code",
        "colab": {}
      },
      "source": [
        "targetdf.to_csv('c_p2016_target.csv')\n",
        "files.download('c_p2016_target.csv')"
      ],
      "execution_count": 0,
      "outputs": []
    },
    {
      "cell_type": "code",
      "metadata": {
        "id": "RMs-mhUJjt-l",
        "colab_type": "code",
        "colab": {}
      },
      "source": [
        ""
      ],
      "execution_count": 0,
      "outputs": []
    }
  ]
}