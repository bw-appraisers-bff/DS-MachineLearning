{
  "nbformat": 4,
  "nbformat_minor": 0,
  "metadata": {
    "colab": {
      "name": "MachineLearning_Notebook.ipynb",
      "provenance": [],
      "collapsed_sections": []
    },
    "kernelspec": {
      "name": "python3",
      "display_name": "Python 3"
    }
  },
  "cells": [
    {
      "cell_type": "markdown",
      "metadata": {
        "id": "4E5_40aWR70n",
        "colab_type": "text"
      },
      "source": [
        "# Importing Libraries/CSV"
      ]
    },
    {
      "cell_type": "code",
      "metadata": {
        "id": "pH0Qg7oyrMsW",
        "colab_type": "code",
        "colab": {}
      },
      "source": [
        "import numpy as np\n",
        "import pandas as pd"
      ],
      "execution_count": 0,
      "outputs": []
    },
    {
      "cell_type": "code",
      "metadata": {
        "id": "E9CeH0YquAYs",
        "colab_type": "code",
        "colab": {
          "base_uri": "https://localhost:8080/",
          "height": 68
        },
        "outputId": "4d3cedf5-ace3-4283-f463-10da3dd5b661"
      },
      "source": [
        "!unzip c1_properties_2016.csv.zip"
      ],
      "execution_count": 74,
      "outputs": [
        {
          "output_type": "stream",
          "text": [
            "Archive:  c1_properties_2016.csv.zip\n",
            "  inflating: c1_properties_2016.csv  \n",
            "  inflating: __MACOSX/._c1_properties_2016.csv  \n"
          ],
          "name": "stdout"
        }
      ]
    },
    {
      "cell_type": "code",
      "metadata": {
        "id": "BrC3vc9EuItr",
        "colab_type": "code",
        "colab": {
          "base_uri": "https://localhost:8080/",
          "height": 34
        },
        "outputId": "b34647b8-0714-4b7c-88ce-68e83c11ca28"
      },
      "source": [
        "df = pd.read_csv(\"c1_properties_2016.csv\")\n",
        "\n",
        "df.shape"
      ],
      "execution_count": 138,
      "outputs": [
        {
          "output_type": "execute_result",
          "data": {
            "text/plain": [
              "(2471261, 8)"
            ]
          },
          "metadata": {
            "tags": []
          },
          "execution_count": 138
        }
      ]
    },
    {
      "cell_type": "code",
      "metadata": {
        "id": "ZPKuLUm8uiUH",
        "colab_type": "code",
        "colab": {
          "base_uri": "https://localhost:8080/",
          "height": 204
        },
        "outputId": "2503ab63-60cd-4901-d359-f3ce0138ab90"
      },
      "source": [
        "df = df.drop(columns=['Unnamed: 0'])\n",
        "df.head()"
      ],
      "execution_count": 139,
      "outputs": [
        {
          "output_type": "execute_result",
          "data": {
            "text/html": [
              "<div>\n",
              "<style scoped>\n",
              "    .dataframe tbody tr th:only-of-type {\n",
              "        vertical-align: middle;\n",
              "    }\n",
              "\n",
              "    .dataframe tbody tr th {\n",
              "        vertical-align: top;\n",
              "    }\n",
              "\n",
              "    .dataframe thead th {\n",
              "        text-align: right;\n",
              "    }\n",
              "</style>\n",
              "<table border=\"1\" class=\"dataframe\">\n",
              "  <thead>\n",
              "    <tr style=\"text-align: right;\">\n",
              "      <th></th>\n",
              "      <th>parcelid</th>\n",
              "      <th>bathroomcnt</th>\n",
              "      <th>bedroomcnt</th>\n",
              "      <th>regionidzip</th>\n",
              "      <th>yearbuilt</th>\n",
              "      <th>calculatedfinishedsquarefeet</th>\n",
              "      <th>taxvaluedollarcnt</th>\n",
              "    </tr>\n",
              "  </thead>\n",
              "  <tbody>\n",
              "    <tr>\n",
              "      <th>0</th>\n",
              "      <td>11324547</td>\n",
              "      <td>2.0</td>\n",
              "      <td>4.0</td>\n",
              "      <td>97329.0</td>\n",
              "      <td>2005.0</td>\n",
              "      <td>3633.0</td>\n",
              "      <td>291973.0</td>\n",
              "    </tr>\n",
              "    <tr>\n",
              "      <th>1</th>\n",
              "      <td>11524947</td>\n",
              "      <td>2.0</td>\n",
              "      <td>2.0</td>\n",
              "      <td>96072.0</td>\n",
              "      <td>2004.0</td>\n",
              "      <td>1090.0</td>\n",
              "      <td>352198.0</td>\n",
              "    </tr>\n",
              "    <tr>\n",
              "      <th>2</th>\n",
              "      <td>11585547</td>\n",
              "      <td>2.0</td>\n",
              "      <td>3.0</td>\n",
              "      <td>96152.0</td>\n",
              "      <td>1926.0</td>\n",
              "      <td>2077.0</td>\n",
              "      <td>637046.0</td>\n",
              "    </tr>\n",
              "    <tr>\n",
              "      <th>3</th>\n",
              "      <td>12508747</td>\n",
              "      <td>3.0</td>\n",
              "      <td>0.0</td>\n",
              "      <td>96234.0</td>\n",
              "      <td>2004.0</td>\n",
              "      <td>9893.0</td>\n",
              "      <td>1716511.0</td>\n",
              "    </tr>\n",
              "    <tr>\n",
              "      <th>4</th>\n",
              "      <td>12606547</td>\n",
              "      <td>3.0</td>\n",
              "      <td>3.0</td>\n",
              "      <td>96161.0</td>\n",
              "      <td>2005.0</td>\n",
              "      <td>2166.0</td>\n",
              "      <td>659000.0</td>\n",
              "    </tr>\n",
              "  </tbody>\n",
              "</table>\n",
              "</div>"
            ],
            "text/plain": [
              "   parcelid  bathroomcnt  ...  calculatedfinishedsquarefeet  taxvaluedollarcnt\n",
              "0  11324547          2.0  ...                        3633.0           291973.0\n",
              "1  11524947          2.0  ...                        1090.0           352198.0\n",
              "2  11585547          2.0  ...                        2077.0           637046.0\n",
              "3  12508747          3.0  ...                        9893.0          1716511.0\n",
              "4  12606547          3.0  ...                        2166.0           659000.0\n",
              "\n",
              "[5 rows x 7 columns]"
            ]
          },
          "metadata": {
            "tags": []
          },
          "execution_count": 139
        }
      ]
    },
    {
      "cell_type": "code",
      "metadata": {
        "id": "ase1Cdmy9Nbu",
        "colab_type": "code",
        "colab": {
          "base_uri": "https://localhost:8080/",
          "height": 297
        },
        "outputId": "adb258d9-f7fe-48d9-bea6-f25173bc77ae"
      },
      "source": [
        "df.describe()"
      ],
      "execution_count": 140,
      "outputs": [
        {
          "output_type": "execute_result",
          "data": {
            "text/html": [
              "<div>\n",
              "<style scoped>\n",
              "    .dataframe tbody tr th:only-of-type {\n",
              "        vertical-align: middle;\n",
              "    }\n",
              "\n",
              "    .dataframe tbody tr th {\n",
              "        vertical-align: top;\n",
              "    }\n",
              "\n",
              "    .dataframe thead th {\n",
              "        text-align: right;\n",
              "    }\n",
              "</style>\n",
              "<table border=\"1\" class=\"dataframe\">\n",
              "  <thead>\n",
              "    <tr style=\"text-align: right;\">\n",
              "      <th></th>\n",
              "      <th>parcelid</th>\n",
              "      <th>bathroomcnt</th>\n",
              "      <th>bedroomcnt</th>\n",
              "      <th>regionidzip</th>\n",
              "      <th>yearbuilt</th>\n",
              "      <th>calculatedfinishedsquarefeet</th>\n",
              "      <th>taxvaluedollarcnt</th>\n",
              "    </tr>\n",
              "  </thead>\n",
              "  <tbody>\n",
              "    <tr>\n",
              "      <th>count</th>\n",
              "      <td>2.471261e+06</td>\n",
              "      <td>2.471261e+06</td>\n",
              "      <td>2.471261e+06</td>\n",
              "      <td>2.471261e+06</td>\n",
              "      <td>2.471261e+06</td>\n",
              "      <td>2.471261e+06</td>\n",
              "      <td>2.471261e+06</td>\n",
              "    </tr>\n",
              "    <tr>\n",
              "      <th>mean</th>\n",
              "      <td>1.282200e+07</td>\n",
              "      <td>2.253286e+00</td>\n",
              "      <td>3.176577e+00</td>\n",
              "      <td>9.654737e+04</td>\n",
              "      <td>1.963883e+03</td>\n",
              "      <td>1.794259e+03</td>\n",
              "      <td>4.231019e+05</td>\n",
              "    </tr>\n",
              "    <tr>\n",
              "      <th>std</th>\n",
              "      <td>2.210337e+06</td>\n",
              "      <td>9.534987e-01</td>\n",
              "      <td>9.696219e-01</td>\n",
              "      <td>3.876956e+03</td>\n",
              "      <td>2.214628e+01</td>\n",
              "      <td>9.306037e+02</td>\n",
              "      <td>5.859331e+05</td>\n",
              "    </tr>\n",
              "    <tr>\n",
              "      <th>min</th>\n",
              "      <td>1.071172e+07</td>\n",
              "      <td>1.000000e+00</td>\n",
              "      <td>0.000000e+00</td>\n",
              "      <td>9.598200e+04</td>\n",
              "      <td>1.801000e+03</td>\n",
              "      <td>1.000000e+00</td>\n",
              "      <td>2.300000e+01</td>\n",
              "    </tr>\n",
              "    <tr>\n",
              "      <th>25%</th>\n",
              "      <td>1.155080e+07</td>\n",
              "      <td>2.000000e+00</td>\n",
              "      <td>3.000000e+00</td>\n",
              "      <td>9.618600e+04</td>\n",
              "      <td>1.951000e+03</td>\n",
              "      <td>1.219000e+03</td>\n",
              "      <td>1.819100e+05</td>\n",
              "    </tr>\n",
              "    <tr>\n",
              "      <th>50%</th>\n",
              "      <td>1.247805e+07</td>\n",
              "      <td>2.000000e+00</td>\n",
              "      <td>3.000000e+00</td>\n",
              "      <td>9.637300e+04</td>\n",
              "      <td>1.962000e+03</td>\n",
              "      <td>1.570000e+03</td>\n",
              "      <td>3.076140e+05</td>\n",
              "    </tr>\n",
              "    <tr>\n",
              "      <th>75%</th>\n",
              "      <td>1.397457e+07</td>\n",
              "      <td>3.000000e+00</td>\n",
              "      <td>4.000000e+00</td>\n",
              "      <td>9.696700e+04</td>\n",
              "      <td>1.980000e+03</td>\n",
              "      <td>2.118000e+03</td>\n",
              "      <td>4.934040e+05</td>\n",
              "    </tr>\n",
              "    <tr>\n",
              "      <th>max</th>\n",
              "      <td>1.632759e+08</td>\n",
              "      <td>2.000000e+01</td>\n",
              "      <td>1.800000e+01</td>\n",
              "      <td>3.996750e+05</td>\n",
              "      <td>2.015000e+03</td>\n",
              "      <td>1.155540e+05</td>\n",
              "      <td>8.883375e+07</td>\n",
              "    </tr>\n",
              "  </tbody>\n",
              "</table>\n",
              "</div>"
            ],
            "text/plain": [
              "           parcelid  ...  taxvaluedollarcnt\n",
              "count  2.471261e+06  ...       2.471261e+06\n",
              "mean   1.282200e+07  ...       4.231019e+05\n",
              "std    2.210337e+06  ...       5.859331e+05\n",
              "min    1.071172e+07  ...       2.300000e+01\n",
              "25%    1.155080e+07  ...       1.819100e+05\n",
              "50%    1.247805e+07  ...       3.076140e+05\n",
              "75%    1.397457e+07  ...       4.934040e+05\n",
              "max    1.632759e+08  ...       8.883375e+07\n",
              "\n",
              "[8 rows x 7 columns]"
            ]
          },
          "metadata": {
            "tags": []
          },
          "execution_count": 140
        }
      ]
    },
    {
      "cell_type": "markdown",
      "metadata": {
        "id": "DtNbrBFSRsjF",
        "colab_type": "text"
      },
      "source": [
        "# Train/Test Split"
      ]
    },
    {
      "cell_type": "code",
      "metadata": {
        "id": "rHlEA-g3v0Mq",
        "colab_type": "code",
        "colab": {}
      },
      "source": [
        "X = df[['bathroomcnt', 'bedroomcnt', 'calculatedfinishedsquarefeet', \n",
        "        'yearbuilt']].values\n",
        "y = df['taxvaluedollarcnt'].values"
      ],
      "execution_count": 0,
      "outputs": []
    },
    {
      "cell_type": "code",
      "metadata": {
        "id": "PaRCRX-ewGF7",
        "colab_type": "code",
        "colab": {
          "base_uri": "https://localhost:8080/",
          "height": 34
        },
        "outputId": "0401f7e6-cc96-489d-ce4e-4cac7a38ccaa"
      },
      "source": [
        "y"
      ],
      "execution_count": 142,
      "outputs": [
        {
          "output_type": "execute_result",
          "data": {
            "text/plain": [
              "array([291973., 352198., 637046., ..., 402544., 256009., 428749.])"
            ]
          },
          "metadata": {
            "tags": []
          },
          "execution_count": 142
        }
      ]
    },
    {
      "cell_type": "code",
      "metadata": {
        "id": "h00qSgIRxTah",
        "colab_type": "code",
        "colab": {
          "base_uri": "https://localhost:8080/",
          "height": 136
        },
        "outputId": "36e5ca16-78ee-4aaa-d983-91a248de987a"
      },
      "source": [
        "X"
      ],
      "execution_count": 199,
      "outputs": [
        {
          "output_type": "execute_result",
          "data": {
            "text/plain": [
              "array([[2.000e+00, 4.000e+00, 3.633e+03, 2.005e+03],\n",
              "       [2.000e+00, 2.000e+00, 1.090e+03, 2.004e+03],\n",
              "       [2.000e+00, 3.000e+00, 2.077e+03, 1.926e+03],\n",
              "       ...,\n",
              "       [2.000e+00, 3.000e+00, 1.917e+03, 1.946e+03],\n",
              "       [2.000e+00, 4.000e+00, 1.987e+03, 1.955e+03],\n",
              "       [1.000e+00, 2.000e+00, 7.980e+02, 2.006e+03]])"
            ]
          },
          "metadata": {
            "tags": []
          },
          "execution_count": 199
        }
      ]
    },
    {
      "cell_type": "code",
      "metadata": {
        "id": "kY6oaHuB3NM2",
        "colab_type": "code",
        "colab": {}
      },
      "source": [
        "from sklearn.preprocessing import StandardScaler\n",
        "\n",
        "scaler = StandardScaler()\n",
        "\n",
        "X = scaler.fit_transform(X)"
      ],
      "execution_count": 0,
      "outputs": []
    },
    {
      "cell_type": "code",
      "metadata": {
        "id": "equw5Twauwdb",
        "colab_type": "code",
        "colab": {}
      },
      "source": [
        "from sklearn.model_selection import train_test_split\n",
        "\n",
        "X_train, X_test, y_train, y_test = train_test_split(X, y, train_size=0.15, test_size=0.03, random_state=42)"
      ],
      "execution_count": 0,
      "outputs": []
    },
    {
      "cell_type": "code",
      "metadata": {
        "id": "ClL3Q6gYxeN4",
        "colab_type": "code",
        "colab": {
          "base_uri": "https://localhost:8080/",
          "height": 34
        },
        "outputId": "749f31b9-5b41-4f41-8121-92079db20788"
      },
      "source": [
        "X_train.shape, X_test.shape, y_train.shape, y_test.shape"
      ],
      "execution_count": 202,
      "outputs": [
        {
          "output_type": "execute_result",
          "data": {
            "text/plain": [
              "((370689, 4), (74138, 4), (370689,), (74138,))"
            ]
          },
          "metadata": {
            "tags": []
          },
          "execution_count": 202
        }
      ]
    },
    {
      "cell_type": "markdown",
      "metadata": {
        "id": "QTR9pJfPRk_n",
        "colab_type": "text"
      },
      "source": [
        "# Linear Regression Base Model"
      ]
    },
    {
      "cell_type": "code",
      "metadata": {
        "id": "kyldS-Dsxe_8",
        "colab_type": "code",
        "colab": {
          "base_uri": "https://localhost:8080/",
          "height": 34
        },
        "outputId": "a478ad7b-491a-40ab-fb28-bad7d61766db"
      },
      "source": [
        "from sklearn.linear_model import LinearRegression\n",
        "from sklearn.metrics import mean_squared_error, mean_absolute_error, r2_score\n",
        "\n",
        "model = LinearRegression()\n",
        "model.fit(X_train, y_train)"
      ],
      "execution_count": 204,
      "outputs": [
        {
          "output_type": "execute_result",
          "data": {
            "text/plain": [
              "LinearRegression(copy_X=True, fit_intercept=True, n_jobs=None, normalize=False)"
            ]
          },
          "metadata": {
            "tags": []
          },
          "execution_count": 204
        }
      ]
    },
    {
      "cell_type": "code",
      "metadata": {
        "id": "c9odIy6GAEo9",
        "colab_type": "code",
        "colab": {}
      },
      "source": [
        "y_pred = model.predict(X_test)"
      ],
      "execution_count": 0,
      "outputs": []
    },
    {
      "cell_type": "code",
      "metadata": {
        "id": "1u_6ld4xxyZ7",
        "colab_type": "code",
        "colab": {
          "base_uri": "https://localhost:8080/",
          "height": 68
        },
        "outputId": "f83cc9e4-c439-4f22-875a-9ecd8af2b921"
      },
      "source": [
        "print('Linear Regression:')\n",
        "print('Mean Absolute Error', mean_absolute_error(y_test, y_pred))\n",
        "print('R^2 score', r2_score(y_test, y_pred))"
      ],
      "execution_count": 206,
      "outputs": [
        {
          "output_type": "stream",
          "text": [
            "Linear Regression:\n",
            "Mean Absolute Error 215390.62275749177\n",
            "R^2 score 0.4160587636683326\n"
          ],
          "name": "stdout"
        }
      ]
    },
    {
      "cell_type": "code",
      "metadata": {
        "id": "0ORMEkrkRbuD",
        "colab_type": "code",
        "colab": {}
      },
      "source": [
        ""
      ],
      "execution_count": 0,
      "outputs": []
    },
    {
      "cell_type": "markdown",
      "metadata": {
        "id": "KHCFiFnnRxoa",
        "colab_type": "text"
      },
      "source": [
        "# Random Forest Regressor Model"
      ]
    },
    {
      "cell_type": "code",
      "metadata": {
        "id": "rNPnm2uQR39Y",
        "colab_type": "code",
        "colab": {}
      },
      "source": [
        "from sklearn.ensemble import RandomForestRegressor"
      ],
      "execution_count": 0,
      "outputs": []
    },
    {
      "cell_type": "code",
      "metadata": {
        "id": "7werff-HR4Ae",
        "colab_type": "code",
        "colab": {}
      },
      "source": [
        "rfr_model = RandomForestRegressor(max_depth=7, n_estimators=100, random_state=44,\n",
        "                                 n_jobs=5)"
      ],
      "execution_count": 0,
      "outputs": []
    },
    {
      "cell_type": "code",
      "metadata": {
        "id": "lw7Qwo8ZR4Cv",
        "colab_type": "code",
        "colab": {
          "base_uri": "https://localhost:8080/",
          "height": 136
        },
        "outputId": "b21f1a9f-adff-46ae-f4be-639b150d1b7b"
      },
      "source": [
        "rfr_model.fit(X_train, y_train)"
      ],
      "execution_count": 209,
      "outputs": [
        {
          "output_type": "execute_result",
          "data": {
            "text/plain": [
              "RandomForestRegressor(bootstrap=True, criterion='mse', max_depth=7,\n",
              "                      max_features='auto', max_leaf_nodes=None,\n",
              "                      min_impurity_decrease=0.0, min_impurity_split=None,\n",
              "                      min_samples_leaf=1, min_samples_split=2,\n",
              "                      min_weight_fraction_leaf=0.0, n_estimators=100, n_jobs=5,\n",
              "                      oob_score=False, random_state=44, verbose=0,\n",
              "                      warm_start=False)"
            ]
          },
          "metadata": {
            "tags": []
          },
          "execution_count": 209
        }
      ]
    },
    {
      "cell_type": "code",
      "metadata": {
        "id": "Okh282zfVUTd",
        "colab_type": "code",
        "colab": {}
      },
      "source": [
        "y_pred = rfr_model.predict(X_test)"
      ],
      "execution_count": 0,
      "outputs": []
    },
    {
      "cell_type": "code",
      "metadata": {
        "id": "UR4XLcfSR4Ew",
        "colab_type": "code",
        "colab": {
          "base_uri": "https://localhost:8080/",
          "height": 68
        },
        "outputId": "16e0946a-1f9c-4557-aef6-127b4e5a04d8"
      },
      "source": [
        "print('Random Forest Regressor:')\n",
        "print('Mean Absolute Error', mean_absolute_error(y_test, y_pred))\n",
        "print('R^2 score', r2_score(y_test, y_pred))"
      ],
      "execution_count": 211,
      "outputs": [
        {
          "output_type": "stream",
          "text": [
            "Random Forest Regressor:\n",
            "Mean Absolute Error 195670.46037264873\n",
            "R^2 score 0.46069830171410897\n"
          ],
          "name": "stdout"
        }
      ]
    },
    {
      "cell_type": "markdown",
      "metadata": {
        "id": "ORAnhgedWCie",
        "colab_type": "text"
      },
      "source": [
        "## RandomizedSearchCV"
      ]
    },
    {
      "cell_type": "code",
      "metadata": {
        "id": "1djaAAZ4XU3P",
        "colab_type": "code",
        "colab": {}
      },
      "source": [
        "from sklearn.model_selection import cross_val_score, RandomizedSearchCV\n",
        "from scipy.stats import randint, uniform"
      ],
      "execution_count": 0,
      "outputs": []
    },
    {
      "cell_type": "code",
      "metadata": {
        "id": "j-THj_ACYVwr",
        "colab_type": "code",
        "colab": {}
      },
      "source": [
        "rfr_model1 = RandomForestRegressor(random_state=42)"
      ],
      "execution_count": 0,
      "outputs": []
    },
    {
      "cell_type": "code",
      "metadata": {
        "id": "9WUquAoQSaro",
        "colab_type": "code",
        "colab": {}
      },
      "source": [
        "\n",
        "param_distributions = {\n",
        "              \"n_estimators\" : [100,250],\n",
        "              \"max_depth\": [3, 5],\n",
        "              \"min_samples_split\": randint(2, 11),\n",
        "              \"min_samples_leaf\": randint(1, 11),\n",
        "              \"bootstrap\": [True, False]\n",
        "}\n",
        "\n",
        "search = RandomizedSearchCV(\n",
        "    rfr_model, \n",
        "    param_distributions=param_distributions, \n",
        "    n_iter=10, \n",
        "    cv=5, \n",
        "    scoring='neg_mean_absolute_error', \n",
        "    verbose=10, \n",
        "    return_train_score=True, \n",
        "    n_jobs=-1\n",
        ")\n",
        "\n",
        "\n",
        "search.fit(X_train, y_train)"
      ],
      "execution_count": 0,
      "outputs": []
    },
    {
      "cell_type": "markdown",
      "metadata": {
        "id": "ayYbbQjPSa_H",
        "colab_type": "text"
      },
      "source": [
        "# XGB Regressor Model"
      ]
    },
    {
      "cell_type": "code",
      "metadata": {
        "id": "W7bWvAXiSfMo",
        "colab_type": "code",
        "colab": {}
      },
      "source": [
        "import xgboost as xgb\n",
        "from xgboost import XGBRegressor"
      ],
      "execution_count": 0,
      "outputs": []
    },
    {
      "cell_type": "code",
      "metadata": {
        "id": "L_VwMgPsSfaM",
        "colab_type": "code",
        "colab": {}
      },
      "source": [
        "xgb_model = XGBRegressor(max_depth=7, random_state=42, learning_rate=0.5, n_estimators=250, n_jobs=-1)"
      ],
      "execution_count": 0,
      "outputs": []
    },
    {
      "cell_type": "code",
      "metadata": {
        "id": "we6QoGOVSfge",
        "colab_type": "code",
        "colab": {
          "base_uri": "https://localhost:8080/",
          "height": 153
        },
        "outputId": "7bcda41e-3762-43c3-be03-7c5d747b1d66"
      },
      "source": [
        "xgb_model.fit(X_train, y_train)"
      ],
      "execution_count": 214,
      "outputs": [
        {
          "output_type": "stream",
          "text": [
            "[20:17:36] WARNING: /workspace/src/objective/regression_obj.cu:152: reg:linear is now deprecated in favor of reg:squarederror.\n"
          ],
          "name": "stdout"
        },
        {
          "output_type": "execute_result",
          "data": {
            "text/plain": [
              "XGBRegressor(base_score=0.5, booster='gbtree', colsample_bylevel=1,\n",
              "             colsample_bynode=1, colsample_bytree=1, gamma=0,\n",
              "             importance_type='gain', learning_rate=0.5, max_delta_step=0,\n",
              "             max_depth=7, min_child_weight=1, missing=None, n_estimators=250,\n",
              "             n_jobs=-1, nthread=None, objective='reg:linear', random_state=42,\n",
              "             reg_alpha=0, reg_lambda=1, scale_pos_weight=1, seed=None,\n",
              "             silent=None, subsample=1, verbosity=1)"
            ]
          },
          "metadata": {
            "tags": []
          },
          "execution_count": 214
        }
      ]
    },
    {
      "cell_type": "code",
      "metadata": {
        "id": "183TaljplaVm",
        "colab_type": "code",
        "colab": {}
      },
      "source": [
        "y_pred = xgb_model.predict(X_test)"
      ],
      "execution_count": 0,
      "outputs": []
    },
    {
      "cell_type": "code",
      "metadata": {
        "id": "LbGD3R_flaYC",
        "colab_type": "code",
        "colab": {
          "base_uri": "https://localhost:8080/",
          "height": 68
        },
        "outputId": "08b06e03-5f69-424c-dd98-0e2ec9366ccd"
      },
      "source": [
        "print('XGB Regressor:')\n",
        "print('Mean Absolute Error', mean_absolute_error(y_test, y_pred))\n",
        "print('R^2 score', r2_score(y_test, y_pred))"
      ],
      "execution_count": 216,
      "outputs": [
        {
          "output_type": "stream",
          "text": [
            "XGB Regressor:\n",
            "Mean Absolute Error 198233.66242429658\n",
            "R^2 score 0.3783534393852276\n"
          ],
          "name": "stdout"
        }
      ]
    },
    {
      "cell_type": "code",
      "metadata": {
        "id": "2NNhOLBvlaab",
        "colab_type": "code",
        "colab": {}
      },
      "source": [
        ""
      ],
      "execution_count": 0,
      "outputs": []
    },
    {
      "cell_type": "code",
      "metadata": {
        "id": "NnJTuUjXlacm",
        "colab_type": "code",
        "colab": {}
      },
      "source": [
        ""
      ],
      "execution_count": 0,
      "outputs": []
    },
    {
      "cell_type": "markdown",
      "metadata": {
        "id": "bKmTOqWlRcVp",
        "colab_type": "text"
      },
      "source": [
        "# Pickle Data"
      ]
    },
    {
      "cell_type": "code",
      "metadata": {
        "id": "pSvNjZklBoDK",
        "colab_type": "code",
        "colab": {}
      },
      "source": [
        "import pickle"
      ],
      "execution_count": 0,
      "outputs": []
    },
    {
      "cell_type": "code",
      "metadata": {
        "id": "xCaR-rdjBpNV",
        "colab_type": "code",
        "colab": {}
      },
      "source": [
        "pickle.dump(model, open('zillow_lr_model.pkl','wb'))\n"
      ],
      "execution_count": 0,
      "outputs": []
    },
    {
      "cell_type": "code",
      "metadata": {
        "id": "irhIA07aBpQC",
        "colab_type": "code",
        "colab": {}
      },
      "source": [
        "pickle.dump(rfr_model, open('zillow_rfr_model.pkl','wb'))"
      ],
      "execution_count": 0,
      "outputs": []
    },
    {
      "cell_type": "code",
      "metadata": {
        "id": "SbDlU6u3v9Q1",
        "colab_type": "code",
        "colab": {}
      },
      "source": [
        "pickle.dump(xgb_model, open('zillow_xgb_model.pkl','wb'))"
      ],
      "execution_count": 0,
      "outputs": []
    }
  ]
}